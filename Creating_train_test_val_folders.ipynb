{
  "nbformat": 4,
  "nbformat_minor": 0,
  "metadata": {
    "colab": {
      "provenance": [],
      "mount_file_id": "18nJqCAjWdWRhu54DN3s7ETjn1XxnsZY7",
      "authorship_tag": "ABX9TyOYjgwJc/FIJY58s4V2Hidi",
      "include_colab_link": true
    },
    "kernelspec": {
      "name": "python3",
      "display_name": "Python 3"
    },
    "language_info": {
      "name": "python"
    }
  },
  "cells": [
    {
      "cell_type": "markdown",
      "metadata": {
        "id": "view-in-github",
        "colab_type": "text"
      },
      "source": [
        "<a href=\"https://colab.research.google.com/github/MAzewail/Creat-train-test-val-folders/blob/main/Creating_train_test_val_folders.ipynb\" target=\"_parent\"><img src=\"https://colab.research.google.com/assets/colab-badge.svg\" alt=\"Open In Colab\"/></a>"
      ]
    },
    {
      "cell_type": "code",
      "source": [
        "import os"
      ],
      "metadata": {
        "id": "iNtzap3Kd2mM"
      },
      "execution_count": null,
      "outputs": []
    },
    {
      "cell_type": "code",
      "source": [
        "from google.colab import drive\n",
        "drive.mount('/content/drive')"
      ],
      "metadata": {
        "id": "iRYqaBFPeDm-"
      },
      "execution_count": null,
      "outputs": []
    },
    {
      "cell_type": "code",
      "execution_count": null,
      "metadata": {
        "id": "Rj7FnVBvdnse"
      },
      "outputs": [],
      "source": [
        "path = \"/content/drive/MyDrive/Project_dir/Dataset/\"\n",
        "for dir_name in ['train','val','test']:\n",
        "  if not (dir_name in os.listdir(path)):\n",
        "    os.mkdir(path + str(dir_name))\n",
        "  else:\n",
        "    print('Already existed!')"
      ]
    }
  ]
}