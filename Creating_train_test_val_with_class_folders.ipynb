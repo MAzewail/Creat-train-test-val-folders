{
  "nbformat": 4,
  "nbformat_minor": 0,
  "metadata": {
    "colab": {
      "provenance": [],
      "mount_file_id": "18nJqCAjWdWRhu54DN3s7ETjn1XxnsZY7",
      "authorship_tag": "ABX9TyNQR8ibAP9R+KUEfHC+zEwS",
      "include_colab_link": true
    },
    "kernelspec": {
      "name": "python3",
      "display_name": "Python 3"
    },
    "language_info": {
      "name": "python"
    }
  },
  "cells": [
    {
      "cell_type": "markdown",
      "metadata": {
        "id": "view-in-github",
        "colab_type": "text"
      },
      "source": [
        "<a href=\"https://colab.research.google.com/github/MAzewail/Creat-train-test-val-folders/blob/main/Creating_train_test_val_with_class_folders.ipynb\" target=\"_parent\"><img src=\"https://colab.research.google.com/assets/colab-badge.svg\" alt=\"Open In Colab\"/></a>"
      ]
    },
    {
      "cell_type": "code",
      "source": [
        "import os"
      ],
      "metadata": {
        "id": "iNtzap3Kd2mM"
      },
      "execution_count": null,
      "outputs": []
    },
    {
      "cell_type": "code",
      "source": [
        "from google.colab import drive\n",
        "drive.mount('/content/drive')"
      ],
      "metadata": {
        "id": "iRYqaBFPeDm-"
      },
      "execution_count": null,
      "outputs": []
    },
    {
      "cell_type": "code",
      "execution_count": null,
      "metadata": {
        "id": "Rj7FnVBvdnse"
      },
      "outputs": [],
      "source": [
        "path = \"/content/drive/MyDrive/Project_dir/Dataset/\"\n",
        "for dir_name in ['train','val','test']:\n",
        "  if dir_name in os.listdir(path):\n",
        "    print('Already existed!')\n",
        "  else:\n",
        "    os.mkdir(path + dir_name)\n",
        "    for class_name in ['/Smoke','/Clean']:\n",
        "      os.mkdir(path + dir_name + class_name)\n",
        "      print('Creating... ' + path + dir_name + class_name)"
      ]
    }
  ]
}